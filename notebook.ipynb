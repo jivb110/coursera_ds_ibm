{
 "cells": [
  {
   "cell_type": "markdown",
   "id": "841190b3",
   "metadata": {},
   "source": [
    "# Data Science Tools and Ecosystem"
   ]
  },
  {
   "cell_type": "markdown",
   "id": "e6da8b92",
   "metadata": {},
   "source": [
    "In this booklet, data science tools and ecosystems are summarized."
   ]
  },
  {
   "cell_type": "markdown",
   "id": "fae4df44",
   "metadata": {},
   "source": [
    "**Objectives:** \n",
    "* List popular languages for data science.\n",
    "* To list popular languages for data science\n",
    "* List popular libraries for data science\n",
    "* To exemplify arithmetic expressions and their execution."
   ]
  },
  {
   "cell_type": "markdown",
   "id": "0f887de6",
   "metadata": {},
   "source": [
    "Some of the popular languages used by data scientists are:\n",
    "\n",
    "1. Python\n",
    "2. R\n",
    "3. SQL\n",
    "4. Java\n",
    "5. Julia\n"
   ]
  },
  {
   "cell_type": "markdown",
   "id": "b10c7175",
   "metadata": {},
   "source": [
    "Some of the libraries commonly used by data scientists include:\n",
    "\n",
    "1. SciPy\n",
    "2. Numpy\n",
    "3. Matplotlib\n",
    "4. Pandas\n",
    "5. Keras\n",
    "6. Scikit-Learn"
   ]
  },
  {
   "cell_type": "markdown",
   "id": "212120f6",
   "metadata": {},
   "source": [
    "Data Science Tools\n",
    "\n",
    "| Tool | Type |\n",
    "|-------------|---------------|\n",
    "| PostgreSQL | Database |\n",
    "| MySQL | Database |\n",
    "| MongoDB | Database |\n"
   ]
  },
  {
   "cell_type": "markdown",
   "id": "55e5791b",
   "metadata": {},
   "source": [
    "The following are some examples of arithmetic expression evaluation in Python\n",
    "$$\n",
    "E = mc^2\n",
    "$$\n"
   ]
  },
  {
   "cell_type": "markdown",
   "id": "7a81260c",
   "metadata": {},
   "source": [
    "Here is a simple arithmetic expression for multiplying and then adding integers"
   ]
  },
  {
   "cell_type": "code",
   "execution_count": 1,
   "id": "b69218d3",
   "metadata": {},
   "outputs": [
    {
     "data": {
      "text/plain": [
       "17"
      ]
     },
     "execution_count": 1,
     "metadata": {},
     "output_type": "execute_result"
    }
   ],
   "source": [
    "(3*4)+5"
   ]
  },
  {
   "cell_type": "markdown",
   "id": "c1b3ab03",
   "metadata": {},
   "source": [
    "This will convert 200 minutes to hours by dividing by 60."
   ]
  },
  {
   "cell_type": "code",
   "execution_count": 4,
   "id": "7fe10ac4",
   "metadata": {},
   "outputs": [
    {
     "name": "stdout",
     "output_type": "stream",
     "text": [
      "3.3333333333333335 hours\n"
     ]
    }
   ],
   "source": [
    "print(f'{200/60} hours')"
   ]
  },
  {
   "cell_type": "markdown",
   "id": "d5a48c56",
   "metadata": {},
   "source": [
    "## Author: Juan Ignacio Vargas Bustos"
   ]
  },
  {
   "cell_type": "markdown",
   "id": "8f96b0ea",
   "metadata": {},
   "source": []
  }
 ],
 "metadata": {
  "kernelspec": {
   "display_name": "Python 3",
   "language": "python",
   "name": "python3"
  },
  "language_info": {
   "codemirror_mode": {
    "name": "ipython",
    "version": 3
   },
   "file_extension": ".py",
   "mimetype": "text/x-python",
   "name": "python",
   "nbconvert_exporter": "python",
   "pygments_lexer": "ipython3",
   "version": "3.12.7"
  }
 },
 "nbformat": 4,
 "nbformat_minor": 5
}
